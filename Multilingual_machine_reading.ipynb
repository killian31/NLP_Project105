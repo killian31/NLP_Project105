{
  "nbformat": 4,
  "nbformat_minor": 0,
  "metadata": {
    "colab": {
      "provenance": [],
      "collapsed_sections": [],
      "include_colab_link": true
    },
    "kernelspec": {
      "name": "python3",
      "display_name": "Python 3"
    },
    "language_info": {
      "name": "python"
    },
    "widgets": {
      "application/vnd.jupyter.widget-state+json": {
        "f74511bc7cb749c2b8fb51a4f5d327bd": {
          "model_module": "@jupyter-widgets/controls",
          "model_name": "HBoxModel",
          "model_module_version": "1.5.0",
          "state": {
            "_dom_classes": [],
            "_model_module": "@jupyter-widgets/controls",
            "_model_module_version": "1.5.0",
            "_model_name": "HBoxModel",
            "_view_count": null,
            "_view_module": "@jupyter-widgets/controls",
            "_view_module_version": "1.5.0",
            "_view_name": "HBoxView",
            "box_style": "",
            "children": [
              "IPY_MODEL_93e4e51584ca4c84b84241d7f6c07db0",
              "IPY_MODEL_32908094dbbd4cdebb7e7c56e398361f",
              "IPY_MODEL_1ba3e19aa158479a8bbec97d6a799bac"
            ],
            "layout": "IPY_MODEL_6db0b6b2b5bd4aaa993f055bc352b80c"
          }
        },
        "93e4e51584ca4c84b84241d7f6c07db0": {
          "model_module": "@jupyter-widgets/controls",
          "model_name": "HTMLModel",
          "model_module_version": "1.5.0",
          "state": {
            "_dom_classes": [],
            "_model_module": "@jupyter-widgets/controls",
            "_model_module_version": "1.5.0",
            "_model_name": "HTMLModel",
            "_view_count": null,
            "_view_module": "@jupyter-widgets/controls",
            "_view_module_version": "1.5.0",
            "_view_name": "HTMLView",
            "description": "",
            "description_tooltip": null,
            "layout": "IPY_MODEL_fecd6a1444c642dda8ebc2e27e044c7c",
            "placeholder": "​",
            "style": "IPY_MODEL_1584d36646db45afacefc167b74c358a",
            "value": "100%"
          }
        },
        "32908094dbbd4cdebb7e7c56e398361f": {
          "model_module": "@jupyter-widgets/controls",
          "model_name": "FloatProgressModel",
          "model_module_version": "1.5.0",
          "state": {
            "_dom_classes": [],
            "_model_module": "@jupyter-widgets/controls",
            "_model_module_version": "1.5.0",
            "_model_name": "FloatProgressModel",
            "_view_count": null,
            "_view_module": "@jupyter-widgets/controls",
            "_view_module_version": "1.5.0",
            "_view_name": "ProgressView",
            "bar_style": "success",
            "description": "",
            "description_tooltip": null,
            "layout": "IPY_MODEL_b5e23e5fe074493db5ec3afc22183fa1",
            "max": 2,
            "min": 0,
            "orientation": "horizontal",
            "style": "IPY_MODEL_19065cad4a5647fa8a9350cb068701a5",
            "value": 2
          }
        },
        "1ba3e19aa158479a8bbec97d6a799bac": {
          "model_module": "@jupyter-widgets/controls",
          "model_name": "HTMLModel",
          "model_module_version": "1.5.0",
          "state": {
            "_dom_classes": [],
            "_model_module": "@jupyter-widgets/controls",
            "_model_module_version": "1.5.0",
            "_model_name": "HTMLModel",
            "_view_count": null,
            "_view_module": "@jupyter-widgets/controls",
            "_view_module_version": "1.5.0",
            "_view_name": "HTMLView",
            "description": "",
            "description_tooltip": null,
            "layout": "IPY_MODEL_6f53c61cb88d4b12b9446648edeb0c1d",
            "placeholder": "​",
            "style": "IPY_MODEL_71bd658f0ea044e1930304b2a19bac22",
            "value": " 2/2 [00:00&lt;00:00, 30.93it/s]"
          }
        },
        "6db0b6b2b5bd4aaa993f055bc352b80c": {
          "model_module": "@jupyter-widgets/base",
          "model_name": "LayoutModel",
          "model_module_version": "1.2.0",
          "state": {
            "_model_module": "@jupyter-widgets/base",
            "_model_module_version": "1.2.0",
            "_model_name": "LayoutModel",
            "_view_count": null,
            "_view_module": "@jupyter-widgets/base",
            "_view_module_version": "1.2.0",
            "_view_name": "LayoutView",
            "align_content": null,
            "align_items": null,
            "align_self": null,
            "border": null,
            "bottom": null,
            "display": null,
            "flex": null,
            "flex_flow": null,
            "grid_area": null,
            "grid_auto_columns": null,
            "grid_auto_flow": null,
            "grid_auto_rows": null,
            "grid_column": null,
            "grid_gap": null,
            "grid_row": null,
            "grid_template_areas": null,
            "grid_template_columns": null,
            "grid_template_rows": null,
            "height": null,
            "justify_content": null,
            "justify_items": null,
            "left": null,
            "margin": null,
            "max_height": null,
            "max_width": null,
            "min_height": null,
            "min_width": null,
            "object_fit": null,
            "object_position": null,
            "order": null,
            "overflow": null,
            "overflow_x": null,
            "overflow_y": null,
            "padding": null,
            "right": null,
            "top": null,
            "visibility": null,
            "width": null
          }
        },
        "fecd6a1444c642dda8ebc2e27e044c7c": {
          "model_module": "@jupyter-widgets/base",
          "model_name": "LayoutModel",
          "model_module_version": "1.2.0",
          "state": {
            "_model_module": "@jupyter-widgets/base",
            "_model_module_version": "1.2.0",
            "_model_name": "LayoutModel",
            "_view_count": null,
            "_view_module": "@jupyter-widgets/base",
            "_view_module_version": "1.2.0",
            "_view_name": "LayoutView",
            "align_content": null,
            "align_items": null,
            "align_self": null,
            "border": null,
            "bottom": null,
            "display": null,
            "flex": null,
            "flex_flow": null,
            "grid_area": null,
            "grid_auto_columns": null,
            "grid_auto_flow": null,
            "grid_auto_rows": null,
            "grid_column": null,
            "grid_gap": null,
            "grid_row": null,
            "grid_template_areas": null,
            "grid_template_columns": null,
            "grid_template_rows": null,
            "height": null,
            "justify_content": null,
            "justify_items": null,
            "left": null,
            "margin": null,
            "max_height": null,
            "max_width": null,
            "min_height": null,
            "min_width": null,
            "object_fit": null,
            "object_position": null,
            "order": null,
            "overflow": null,
            "overflow_x": null,
            "overflow_y": null,
            "padding": null,
            "right": null,
            "top": null,
            "visibility": null,
            "width": null
          }
        },
        "1584d36646db45afacefc167b74c358a": {
          "model_module": "@jupyter-widgets/controls",
          "model_name": "DescriptionStyleModel",
          "model_module_version": "1.5.0",
          "state": {
            "_model_module": "@jupyter-widgets/controls",
            "_model_module_version": "1.5.0",
            "_model_name": "DescriptionStyleModel",
            "_view_count": null,
            "_view_module": "@jupyter-widgets/base",
            "_view_module_version": "1.2.0",
            "_view_name": "StyleView",
            "description_width": ""
          }
        },
        "b5e23e5fe074493db5ec3afc22183fa1": {
          "model_module": "@jupyter-widgets/base",
          "model_name": "LayoutModel",
          "model_module_version": "1.2.0",
          "state": {
            "_model_module": "@jupyter-widgets/base",
            "_model_module_version": "1.2.0",
            "_model_name": "LayoutModel",
            "_view_count": null,
            "_view_module": "@jupyter-widgets/base",
            "_view_module_version": "1.2.0",
            "_view_name": "LayoutView",
            "align_content": null,
            "align_items": null,
            "align_self": null,
            "border": null,
            "bottom": null,
            "display": null,
            "flex": null,
            "flex_flow": null,
            "grid_area": null,
            "grid_auto_columns": null,
            "grid_auto_flow": null,
            "grid_auto_rows": null,
            "grid_column": null,
            "grid_gap": null,
            "grid_row": null,
            "grid_template_areas": null,
            "grid_template_columns": null,
            "grid_template_rows": null,
            "height": null,
            "justify_content": null,
            "justify_items": null,
            "left": null,
            "margin": null,
            "max_height": null,
            "max_width": null,
            "min_height": null,
            "min_width": null,
            "object_fit": null,
            "object_position": null,
            "order": null,
            "overflow": null,
            "overflow_x": null,
            "overflow_y": null,
            "padding": null,
            "right": null,
            "top": null,
            "visibility": null,
            "width": null
          }
        },
        "19065cad4a5647fa8a9350cb068701a5": {
          "model_module": "@jupyter-widgets/controls",
          "model_name": "ProgressStyleModel",
          "model_module_version": "1.5.0",
          "state": {
            "_model_module": "@jupyter-widgets/controls",
            "_model_module_version": "1.5.0",
            "_model_name": "ProgressStyleModel",
            "_view_count": null,
            "_view_module": "@jupyter-widgets/base",
            "_view_module_version": "1.2.0",
            "_view_name": "StyleView",
            "bar_color": null,
            "description_width": ""
          }
        },
        "6f53c61cb88d4b12b9446648edeb0c1d": {
          "model_module": "@jupyter-widgets/base",
          "model_name": "LayoutModel",
          "model_module_version": "1.2.0",
          "state": {
            "_model_module": "@jupyter-widgets/base",
            "_model_module_version": "1.2.0",
            "_model_name": "LayoutModel",
            "_view_count": null,
            "_view_module": "@jupyter-widgets/base",
            "_view_module_version": "1.2.0",
            "_view_name": "LayoutView",
            "align_content": null,
            "align_items": null,
            "align_self": null,
            "border": null,
            "bottom": null,
            "display": null,
            "flex": null,
            "flex_flow": null,
            "grid_area": null,
            "grid_auto_columns": null,
            "grid_auto_flow": null,
            "grid_auto_rows": null,
            "grid_column": null,
            "grid_gap": null,
            "grid_row": null,
            "grid_template_areas": null,
            "grid_template_columns": null,
            "grid_template_rows": null,
            "height": null,
            "justify_content": null,
            "justify_items": null,
            "left": null,
            "margin": null,
            "max_height": null,
            "max_width": null,
            "min_height": null,
            "min_width": null,
            "object_fit": null,
            "object_position": null,
            "order": null,
            "overflow": null,
            "overflow_x": null,
            "overflow_y": null,
            "padding": null,
            "right": null,
            "top": null,
            "visibility": null,
            "width": null
          }
        },
        "71bd658f0ea044e1930304b2a19bac22": {
          "model_module": "@jupyter-widgets/controls",
          "model_name": "DescriptionStyleModel",
          "model_module_version": "1.5.0",
          "state": {
            "_model_module": "@jupyter-widgets/controls",
            "_model_module_version": "1.5.0",
            "_model_name": "DescriptionStyleModel",
            "_view_count": null,
            "_view_module": "@jupyter-widgets/base",
            "_view_module_version": "1.2.0",
            "_view_name": "StyleView",
            "description_width": ""
          }
        }
      }
    }
  },
  "cells": [
    {
      "cell_type": "markdown",
      "metadata": {
        "id": "view-in-github",
        "colab_type": "text"
      },
      "source": [
        "<a href=\"https://colab.research.google.com/github/killian31/NLP_Project105/blob/main/Multilingual_machine_reading.ipynb\" target=\"_parent\"><img src=\"https://colab.research.google.com/assets/colab-badge.svg\" alt=\"Open In Colab\"/></a>"
      ]
    },
    {
      "cell_type": "markdown",
      "source": [
        "# Assignment 1\n"
      ],
      "metadata": {
        "id": "vKluIdevMdiP"
      }
    },
    {
      "cell_type": "markdown",
      "source": [
        "\n",
        "\n",
        "## 1.1 Preprocessing"
      ],
      "metadata": {
        "id": "dnX6iybdNNX1"
      }
    },
    {
      "cell_type": "code",
      "source": [
        "!pip install datasets\n",
        "!pip install spacy\n",
        "!python -m spacy download ja_core_news_sm \n",
        "!python -m spacy download fi_core_news_sm"
      ],
      "metadata": {
        "id": "ICuHef-_00hf"
      },
      "execution_count": null,
      "outputs": []
    },
    {
      "cell_type": "code",
      "source": [
        "%reload_ext autoreload\n",
        "%autoreload 2\n",
        "%matplotlib inline"
      ],
      "metadata": {
        "id": "Zu5cZKnWsU0M"
      },
      "execution_count": null,
      "outputs": []
    },
    {
      "cell_type": "code",
      "source": [
        "import re\n",
        "import spacy \n",
        "import numpy as np\n",
        "import pandas as pd\n",
        "from datasets import load_dataset"
      ],
      "metadata": {
        "id": "ooGwRBLz8YZT"
      },
      "execution_count": null,
      "outputs": []
    },
    {
      "cell_type": "code",
      "execution_count": null,
      "metadata": {
        "id": "1PfeX3D_zzpt",
        "colab": {
          "base_uri": "https://localhost:8080/",
          "height": 104,
          "referenced_widgets": [
            "f74511bc7cb749c2b8fb51a4f5d327bd",
            "93e4e51584ca4c84b84241d7f6c07db0",
            "32908094dbbd4cdebb7e7c56e398361f",
            "1ba3e19aa158479a8bbec97d6a799bac",
            "6db0b6b2b5bd4aaa993f055bc352b80c",
            "fecd6a1444c642dda8ebc2e27e044c7c",
            "1584d36646db45afacefc167b74c358a",
            "b5e23e5fe074493db5ec3afc22183fa1",
            "19065cad4a5647fa8a9350cb068701a5",
            "6f53c61cb88d4b12b9446648edeb0c1d",
            "71bd658f0ea044e1930304b2a19bac22"
          ]
        },
        "outputId": "b8d180e9-c099-4fed-9433-96056ca91b28"
      },
      "outputs": [
        {
          "output_type": "stream",
          "name": "stderr",
          "text": [
            "WARNING:datasets.builder:Using custom data configuration copenlu--nlp_course_tydiqa-9ffd3d37cf2899c6\n",
            "WARNING:datasets.builder:Reusing dataset parquet (/root/.cache/huggingface/datasets/copenlu___parquet/copenlu--nlp_course_tydiqa-9ffd3d37cf2899c6/0.0.0/2a3b91fbd88a2c90d1dbbb32b460cf621d31bd5b05b934492fdef7d8d6f236ec)\n"
          ]
        },
        {
          "output_type": "display_data",
          "data": {
            "text/plain": [
              "  0%|          | 0/2 [00:00<?, ?it/s]"
            ],
            "application/vnd.jupyter.widget-view+json": {
              "version_major": 2,
              "version_minor": 0,
              "model_id": "f74511bc7cb749c2b8fb51a4f5d327bd"
            }
          },
          "metadata": {}
        }
      ],
      "source": [
        "dataset = load_dataset(\"copenlu/answerable_tydiqa\")\n",
        "train_set = dataset[\"train\"]\n",
        "validation_set = dataset[\"validation\"]\n",
        "\n",
        "train_set_pd = train_set.to_pandas()\n",
        "df = train_set_pd[train_set_pd.language.isin(['finnish','english','japanese'])]\n",
        "\n",
        "validation_set_pd = validation_set.to_pandas()\n",
        "df_val = validation_set_pd[validation_set_pd.language.isin(['finnish','english','japanese'])]"
      ]
    },
    {
      "cell_type": "markdown",
      "source": [
        "\n",
        "### 1.1.a Tokenization of english, japanese and finnish."
      ],
      "metadata": {
        "id": "XaVoYc4yNNn2"
      }
    },
    {
      "cell_type": "code",
      "source": [
        "# Load relevant languages\n",
        "nlp_en = spacy.load('en_core_web_sm')\n",
        "nlp_ja = spacy.load('ja_core_news_sm')\n",
        "nlp_fi = spacy.load('fi_core_news_sm')"
      ],
      "metadata": {
        "id": "rUm8VzI79lia"
      },
      "execution_count": null,
      "outputs": []
    },
    {
      "cell_type": "code",
      "source": [
        "# Function to tokenize text\n",
        "def tokenizer_lang(text, lang):\n",
        "  if lang in ['english','japanese','finnish']:\n",
        "    if lang == 'english':\n",
        "      doc = nlp_en.tokenizer(text)\n",
        "    elif lang == 'japanese':\n",
        "      doc = nlp_ja.tokenizer(text)\n",
        "    elif lang == 'finnish':\n",
        "      doc = nlp_fi.tokenizer(text)\n",
        "\n",
        "    return [t.text for t in doc if not t.is_punct]"
      ],
      "metadata": {
        "id": "nJ6SKWO-HINd"
      },
      "execution_count": null,
      "outputs": []
    },
    {
      "cell_type": "code",
      "source": [
        "def tokenize_col(df, cols):\n",
        "  for col in cols:\n",
        "    df.loc[:, col+'_t'] = df.apply(lambda x: tokenizer_lang(x[col], x['language']), axis=1)"
      ],
      "metadata": {
        "id": "MfVrlQl5YmVW"
      },
      "execution_count": null,
      "outputs": []
    },
    {
      "cell_type": "code",
      "source": [
        "tokenize_col(df, ['question_text', 'document_plaintext'])\n",
        "tokenize_col(df_val, ['question_text', 'document_plaintext'])"
      ],
      "metadata": {
        "id": "UZ-Uux2GZfai"
      },
      "execution_count": null,
      "outputs": []
    },
    {
      "cell_type": "code",
      "source": [
        "df.head()"
      ],
      "metadata": {
        "colab": {
          "base_uri": "https://localhost:8080/",
          "height": 565
        },
        "id": "_fcSh1cqEhfR",
        "outputId": "eaa39c86-cd81-4c11-d711-6c3c1b7fcf12"
      },
      "execution_count": null,
      "outputs": [
        {
          "output_type": "execute_result",
          "data": {
            "text/plain": [
              "                                  question_text  document_title  language  \\\n",
              "0                  Milloin Charles Fort syntyi?    Charles Fort   finnish   \n",
              "1                   “ダン” ダニエル・ジャドソン・キャラハンの出身はどこ    ダニエル・J・キャラハン  japanese   \n",
              "10                           Mitä on altruismi?       Altruismi   finnish   \n",
              "12  Mikä oli Wilhelm Wagner viimeinen sävellys?  Richard Wagner   finnish   \n",
              "13                        Missä Harz sijaitsee?            Harz   finnish   \n",
              "\n",
              "                                          annotations  \\\n",
              "0   {'answer_start': [18], 'answer_text': ['6. elo...   \n",
              "1   {'answer_start': [35], 'answer_text': ['カリフォルニ...   \n",
              "10  {'answer_start': [44], 'answer_text': ['epäits...   \n",
              "12  {'answer_start': [597], 'answer_text': ['Parsi...   \n",
              "13  {'answer_start': [25], 'answer_text': ['Pohjoi...   \n",
              "\n",
              "                                   document_plaintext  \\\n",
              "0   Charles Hoy Fort (6. elokuuta (joidenkin lähte...   \n",
              "1   “ダン”こと、ダニエル・ジャドソン・キャラハンは1890年7月26日、カリフォルニア州サンフ...   \n",
              "10  \\n\\n\\nAltruismi ([1],  ”toinen”[2]) tarkoittaa...   \n",
              "12  Wagnerin mestariteoksia ovat hänen myöhäiskaud...   \n",
              "13  \\n\\nHarz on horstivuoristo Pohjois-Saksassa[1]...   \n",
              "\n",
              "                                         document_url  \\\n",
              "0        https://fi.wikipedia.org/wiki/Charles%20Fort   \n",
              "1   https://ja.wikipedia.org/wiki/%E3%83%80%E3%83%...   \n",
              "10            https://fi.wikipedia.org/wiki/Altruismi   \n",
              "12     https://fi.wikipedia.org/wiki/Richard%20Wagner   \n",
              "13                 https://fi.wikipedia.org/wiki/Harz   \n",
              "\n",
              "                                      question_text_t  \\\n",
              "0                    [Milloin, Charles, Fort, syntyi]   \n",
              "1              [ダン, ダニエル, ジャドソン, キャラハン, の, 出身, は, どこ]   \n",
              "10                              [Mitä, on, altruismi]   \n",
              "12  [Mikä, oli, Wilhelm, Wagner, viimeinen, sävellys]   \n",
              "13                           [Missä, Harz, sijaitsee]   \n",
              "\n",
              "                                 document_plaintext_t  \n",
              "0   [Charles, Hoy, Fort, 6, elokuuta, joidenkin, l...  \n",
              "1   [ダン, こと, ダニエル, ジャドソン, キャラハン, は, 1890, 年, 7, 月,...  \n",
              "10  [\\n\\n\\n, Altruismi, 1,  , toinen”[2, tarkoitta...  \n",
              "12  [Wagnerin, mestariteoksia, ovat, hänen, myöhäi...  \n",
              "13  [\\n\\n, Harz, on, horstivuoristo, Pohjois-Saksa...  "
            ],
            "text/html": [
              "\n",
              "  <div id=\"df-d09abf1b-8e26-4b38-92bd-f5977115f1de\">\n",
              "    <div class=\"colab-df-container\">\n",
              "      <div>\n",
              "<style scoped>\n",
              "    .dataframe tbody tr th:only-of-type {\n",
              "        vertical-align: middle;\n",
              "    }\n",
              "\n",
              "    .dataframe tbody tr th {\n",
              "        vertical-align: top;\n",
              "    }\n",
              "\n",
              "    .dataframe thead th {\n",
              "        text-align: right;\n",
              "    }\n",
              "</style>\n",
              "<table border=\"1\" class=\"dataframe\">\n",
              "  <thead>\n",
              "    <tr style=\"text-align: right;\">\n",
              "      <th></th>\n",
              "      <th>question_text</th>\n",
              "      <th>document_title</th>\n",
              "      <th>language</th>\n",
              "      <th>annotations</th>\n",
              "      <th>document_plaintext</th>\n",
              "      <th>document_url</th>\n",
              "      <th>question_text_t</th>\n",
              "      <th>document_plaintext_t</th>\n",
              "    </tr>\n",
              "  </thead>\n",
              "  <tbody>\n",
              "    <tr>\n",
              "      <th>0</th>\n",
              "      <td>Milloin Charles Fort syntyi?</td>\n",
              "      <td>Charles Fort</td>\n",
              "      <td>finnish</td>\n",
              "      <td>{'answer_start': [18], 'answer_text': ['6. elo...</td>\n",
              "      <td>Charles Hoy Fort (6. elokuuta (joidenkin lähte...</td>\n",
              "      <td>https://fi.wikipedia.org/wiki/Charles%20Fort</td>\n",
              "      <td>[Milloin, Charles, Fort, syntyi]</td>\n",
              "      <td>[Charles, Hoy, Fort, 6, elokuuta, joidenkin, l...</td>\n",
              "    </tr>\n",
              "    <tr>\n",
              "      <th>1</th>\n",
              "      <td>“ダン” ダニエル・ジャドソン・キャラハンの出身はどこ</td>\n",
              "      <td>ダニエル・J・キャラハン</td>\n",
              "      <td>japanese</td>\n",
              "      <td>{'answer_start': [35], 'answer_text': ['カリフォルニ...</td>\n",
              "      <td>“ダン”こと、ダニエル・ジャドソン・キャラハンは1890年7月26日、カリフォルニア州サンフ...</td>\n",
              "      <td>https://ja.wikipedia.org/wiki/%E3%83%80%E3%83%...</td>\n",
              "      <td>[ダン, ダニエル, ジャドソン, キャラハン, の, 出身, は, どこ]</td>\n",
              "      <td>[ダン, こと, ダニエル, ジャドソン, キャラハン, は, 1890, 年, 7, 月,...</td>\n",
              "    </tr>\n",
              "    <tr>\n",
              "      <th>10</th>\n",
              "      <td>Mitä on altruismi?</td>\n",
              "      <td>Altruismi</td>\n",
              "      <td>finnish</td>\n",
              "      <td>{'answer_start': [44], 'answer_text': ['epäits...</td>\n",
              "      <td>\\n\\n\\nAltruismi ([1],  ”toinen”[2]) tarkoittaa...</td>\n",
              "      <td>https://fi.wikipedia.org/wiki/Altruismi</td>\n",
              "      <td>[Mitä, on, altruismi]</td>\n",
              "      <td>[\\n\\n\\n, Altruismi, 1,  , toinen”[2, tarkoitta...</td>\n",
              "    </tr>\n",
              "    <tr>\n",
              "      <th>12</th>\n",
              "      <td>Mikä oli Wilhelm Wagner viimeinen sävellys?</td>\n",
              "      <td>Richard Wagner</td>\n",
              "      <td>finnish</td>\n",
              "      <td>{'answer_start': [597], 'answer_text': ['Parsi...</td>\n",
              "      <td>Wagnerin mestariteoksia ovat hänen myöhäiskaud...</td>\n",
              "      <td>https://fi.wikipedia.org/wiki/Richard%20Wagner</td>\n",
              "      <td>[Mikä, oli, Wilhelm, Wagner, viimeinen, sävellys]</td>\n",
              "      <td>[Wagnerin, mestariteoksia, ovat, hänen, myöhäi...</td>\n",
              "    </tr>\n",
              "    <tr>\n",
              "      <th>13</th>\n",
              "      <td>Missä Harz sijaitsee?</td>\n",
              "      <td>Harz</td>\n",
              "      <td>finnish</td>\n",
              "      <td>{'answer_start': [25], 'answer_text': ['Pohjoi...</td>\n",
              "      <td>\\n\\nHarz on horstivuoristo Pohjois-Saksassa[1]...</td>\n",
              "      <td>https://fi.wikipedia.org/wiki/Harz</td>\n",
              "      <td>[Missä, Harz, sijaitsee]</td>\n",
              "      <td>[\\n\\n, Harz, on, horstivuoristo, Pohjois-Saksa...</td>\n",
              "    </tr>\n",
              "  </tbody>\n",
              "</table>\n",
              "</div>\n",
              "      <button class=\"colab-df-convert\" onclick=\"convertToInteractive('df-d09abf1b-8e26-4b38-92bd-f5977115f1de')\"\n",
              "              title=\"Convert this dataframe to an interactive table.\"\n",
              "              style=\"display:none;\">\n",
              "        \n",
              "  <svg xmlns=\"http://www.w3.org/2000/svg\" height=\"24px\"viewBox=\"0 0 24 24\"\n",
              "       width=\"24px\">\n",
              "    <path d=\"M0 0h24v24H0V0z\" fill=\"none\"/>\n",
              "    <path d=\"M18.56 5.44l.94 2.06.94-2.06 2.06-.94-2.06-.94-.94-2.06-.94 2.06-2.06.94zm-11 1L8.5 8.5l.94-2.06 2.06-.94-2.06-.94L8.5 2.5l-.94 2.06-2.06.94zm10 10l.94 2.06.94-2.06 2.06-.94-2.06-.94-.94-2.06-.94 2.06-2.06.94z\"/><path d=\"M17.41 7.96l-1.37-1.37c-.4-.4-.92-.59-1.43-.59-.52 0-1.04.2-1.43.59L10.3 9.45l-7.72 7.72c-.78.78-.78 2.05 0 2.83L4 21.41c.39.39.9.59 1.41.59.51 0 1.02-.2 1.41-.59l7.78-7.78 2.81-2.81c.8-.78.8-2.07 0-2.86zM5.41 20L4 18.59l7.72-7.72 1.47 1.35L5.41 20z\"/>\n",
              "  </svg>\n",
              "      </button>\n",
              "      \n",
              "  <style>\n",
              "    .colab-df-container {\n",
              "      display:flex;\n",
              "      flex-wrap:wrap;\n",
              "      gap: 12px;\n",
              "    }\n",
              "\n",
              "    .colab-df-convert {\n",
              "      background-color: #E8F0FE;\n",
              "      border: none;\n",
              "      border-radius: 50%;\n",
              "      cursor: pointer;\n",
              "      display: none;\n",
              "      fill: #1967D2;\n",
              "      height: 32px;\n",
              "      padding: 0 0 0 0;\n",
              "      width: 32px;\n",
              "    }\n",
              "\n",
              "    .colab-df-convert:hover {\n",
              "      background-color: #E2EBFA;\n",
              "      box-shadow: 0px 1px 2px rgba(60, 64, 67, 0.3), 0px 1px 3px 1px rgba(60, 64, 67, 0.15);\n",
              "      fill: #174EA6;\n",
              "    }\n",
              "\n",
              "    [theme=dark] .colab-df-convert {\n",
              "      background-color: #3B4455;\n",
              "      fill: #D2E3FC;\n",
              "    }\n",
              "\n",
              "    [theme=dark] .colab-df-convert:hover {\n",
              "      background-color: #434B5C;\n",
              "      box-shadow: 0px 1px 3px 1px rgba(0, 0, 0, 0.15);\n",
              "      filter: drop-shadow(0px 1px 2px rgba(0, 0, 0, 0.3));\n",
              "      fill: #FFFFFF;\n",
              "    }\n",
              "  </style>\n",
              "\n",
              "      <script>\n",
              "        const buttonEl =\n",
              "          document.querySelector('#df-d09abf1b-8e26-4b38-92bd-f5977115f1de button.colab-df-convert');\n",
              "        buttonEl.style.display =\n",
              "          google.colab.kernel.accessAllowed ? 'block' : 'none';\n",
              "\n",
              "        async function convertToInteractive(key) {\n",
              "          const element = document.querySelector('#df-d09abf1b-8e26-4b38-92bd-f5977115f1de');\n",
              "          const dataTable =\n",
              "            await google.colab.kernel.invokeFunction('convertToInteractive',\n",
              "                                                     [key], {});\n",
              "          if (!dataTable) return;\n",
              "\n",
              "          const docLinkHtml = 'Like what you see? Visit the ' +\n",
              "            '<a target=\"_blank\" href=https://colab.research.google.com/notebooks/data_table.ipynb>data table notebook</a>'\n",
              "            + ' to learn more about interactive tables.';\n",
              "          element.innerHTML = '';\n",
              "          dataTable['output_type'] = 'display_data';\n",
              "          await google.colab.output.renderOutput(dataTable, element);\n",
              "          const docLink = document.createElement('div');\n",
              "          docLink.innerHTML = docLinkHtml;\n",
              "          element.appendChild(docLink);\n",
              "        }\n",
              "      </script>\n",
              "    </div>\n",
              "  </div>\n",
              "  "
            ]
          },
          "metadata": {},
          "execution_count": 82
        }
      ]
    },
    {
      "cell_type": "code",
      "source": [
        "df_val.head()"
      ],
      "metadata": {
        "colab": {
          "base_uri": "https://localhost:8080/",
          "height": 548
        },
        "id": "U1HKuqy1cgSV",
        "outputId": "9f92f115-e08a-4400-cd14-f3f6d15a28e9"
      },
      "execution_count": null,
      "outputs": [
        {
          "output_type": "execute_result",
          "data": {
            "text/plain": [
              "                             question_text    document_title  language  \\\n",
              "3                       化学兵器禁止条約はどこで採択された？          化学兵器禁止条約  japanese   \n",
              "9                  オリヴィア・デ・ハヴィランドが生まれたのはいつ    オリヴィア・デ・ハヴィランド  japanese   \n",
              "11           Kauanko lasia on valmistettu?              Lasi   finnish   \n",
              "14                  Mikä on Ponzi-huijaus?     Ponzi-huijaus   finnish   \n",
              "20  Mikä oli Napoleonin sotien lopputulos?  Napoleonin sodat   finnish   \n",
              "\n",
              "                                          annotations  \\\n",
              "3       {'answer_start': [11], 'answer_text': ['パリ']}   \n",
              "9   {'answer_start': [46], 'answer_text': ['1916年7...   \n",
              "11  {'answer_start': [160], 'answer_text': ['noin ...   \n",
              "14  {'answer_start': [39], 'answer_text': ['pyrami...   \n",
              "20  {'answer_start': [15], 'answer_text': ['Ranska...   \n",
              "\n",
              "                                   document_plaintext  \\\n",
              "3   1993年1月13日にパリにおいて署名がなされ、1997年4月29日に発効した[1]。実効的...   \n",
              "9   \\nオリヴィア・デ・ハヴィランド（Dame Olivia De Havilland, DBE...   \n",
              "11  Vanhin tunnettu lasilaatu on alkali­kalkki­las...   \n",
              "14  Ponzi-huijaus eli Ponzi-järjestelmä on pyramid...   \n",
              "20  Sotien jälkeen Ranska alistettiin kovilla rauh...   \n",
              "\n",
              "                                         document_url  \\\n",
              "3   https://ja.wikipedia.org/wiki/%E5%8C%96%E5%AD%...   \n",
              "9   https://ja.wikipedia.org/wiki/%E3%82%AA%E3%83%...   \n",
              "11                 https://fi.wikipedia.org/wiki/Lasi   \n",
              "14        https://fi.wikipedia.org/wiki/Ponzi-huijaus   \n",
              "20   https://fi.wikipedia.org/wiki/Napoleonin%20sodat   \n",
              "\n",
              "                                question_text_t  \\\n",
              "3       [化学, 兵器, 禁止, 条約, は, どこ, で, 採択, さ, れ, た]   \n",
              "9       [オリヴィア, デ, ハヴィランド, が, 生まれ, た, の, は, いつ]   \n",
              "11            [Kauanko, lasia, on, valmistettu]   \n",
              "14                    [Mikä, on, Ponzi-huijaus]   \n",
              "20  [Mikä, oli, Napoleonin, sotien, lopputulos]   \n",
              "\n",
              "                                 document_plaintext_t  answerable answerable_t  \n",
              "3   [1993, 年, 1, 月, 13, 日, に, パリ, に, おい, て, 署名, が,...           1   Answerable  \n",
              "9   [\\n, オリヴィア, デ, ハヴィランド, Dame, Olivia, De Havill...           1   Answerable  \n",
              "11  [Vanhin, tunnettu, lasilaatu, on, alkali­kalkk...           1   Answerable  \n",
              "14  [Ponzi-huijaus, eli, Ponzi-järjestelmä, on, py...           1   Answerable  \n",
              "20  [Sotien, jälkeen, Ranska, alistettiin, kovilla...           1   Answerable  "
            ],
            "text/html": [
              "\n",
              "  <div id=\"df-e39bbffc-03a1-4b7d-920c-47d586d8a0ba\">\n",
              "    <div class=\"colab-df-container\">\n",
              "      <div>\n",
              "<style scoped>\n",
              "    .dataframe tbody tr th:only-of-type {\n",
              "        vertical-align: middle;\n",
              "    }\n",
              "\n",
              "    .dataframe tbody tr th {\n",
              "        vertical-align: top;\n",
              "    }\n",
              "\n",
              "    .dataframe thead th {\n",
              "        text-align: right;\n",
              "    }\n",
              "</style>\n",
              "<table border=\"1\" class=\"dataframe\">\n",
              "  <thead>\n",
              "    <tr style=\"text-align: right;\">\n",
              "      <th></th>\n",
              "      <th>question_text</th>\n",
              "      <th>document_title</th>\n",
              "      <th>language</th>\n",
              "      <th>annotations</th>\n",
              "      <th>document_plaintext</th>\n",
              "      <th>document_url</th>\n",
              "      <th>question_text_t</th>\n",
              "      <th>document_plaintext_t</th>\n",
              "      <th>answerable</th>\n",
              "      <th>answerable_t</th>\n",
              "    </tr>\n",
              "  </thead>\n",
              "  <tbody>\n",
              "    <tr>\n",
              "      <th>3</th>\n",
              "      <td>化学兵器禁止条約はどこで採択された？</td>\n",
              "      <td>化学兵器禁止条約</td>\n",
              "      <td>japanese</td>\n",
              "      <td>{'answer_start': [11], 'answer_text': ['パリ']}</td>\n",
              "      <td>1993年1月13日にパリにおいて署名がなされ、1997年4月29日に発効した[1]。実効的...</td>\n",
              "      <td>https://ja.wikipedia.org/wiki/%E5%8C%96%E5%AD%...</td>\n",
              "      <td>[化学, 兵器, 禁止, 条約, は, どこ, で, 採択, さ, れ, た]</td>\n",
              "      <td>[1993, 年, 1, 月, 13, 日, に, パリ, に, おい, て, 署名, が,...</td>\n",
              "      <td>1</td>\n",
              "      <td>Answerable</td>\n",
              "    </tr>\n",
              "    <tr>\n",
              "      <th>9</th>\n",
              "      <td>オリヴィア・デ・ハヴィランドが生まれたのはいつ</td>\n",
              "      <td>オリヴィア・デ・ハヴィランド</td>\n",
              "      <td>japanese</td>\n",
              "      <td>{'answer_start': [46], 'answer_text': ['1916年7...</td>\n",
              "      <td>\\nオリヴィア・デ・ハヴィランド（Dame Olivia De Havilland, DBE...</td>\n",
              "      <td>https://ja.wikipedia.org/wiki/%E3%82%AA%E3%83%...</td>\n",
              "      <td>[オリヴィア, デ, ハヴィランド, が, 生まれ, た, の, は, いつ]</td>\n",
              "      <td>[\\n, オリヴィア, デ, ハヴィランド, Dame, Olivia, De Havill...</td>\n",
              "      <td>1</td>\n",
              "      <td>Answerable</td>\n",
              "    </tr>\n",
              "    <tr>\n",
              "      <th>11</th>\n",
              "      <td>Kauanko lasia on valmistettu?</td>\n",
              "      <td>Lasi</td>\n",
              "      <td>finnish</td>\n",
              "      <td>{'answer_start': [160], 'answer_text': ['noin ...</td>\n",
              "      <td>Vanhin tunnettu lasilaatu on alkali­kalkki­las...</td>\n",
              "      <td>https://fi.wikipedia.org/wiki/Lasi</td>\n",
              "      <td>[Kauanko, lasia, on, valmistettu]</td>\n",
              "      <td>[Vanhin, tunnettu, lasilaatu, on, alkali­kalkk...</td>\n",
              "      <td>1</td>\n",
              "      <td>Answerable</td>\n",
              "    </tr>\n",
              "    <tr>\n",
              "      <th>14</th>\n",
              "      <td>Mikä on Ponzi-huijaus?</td>\n",
              "      <td>Ponzi-huijaus</td>\n",
              "      <td>finnish</td>\n",
              "      <td>{'answer_start': [39], 'answer_text': ['pyrami...</td>\n",
              "      <td>Ponzi-huijaus eli Ponzi-järjestelmä on pyramid...</td>\n",
              "      <td>https://fi.wikipedia.org/wiki/Ponzi-huijaus</td>\n",
              "      <td>[Mikä, on, Ponzi-huijaus]</td>\n",
              "      <td>[Ponzi-huijaus, eli, Ponzi-järjestelmä, on, py...</td>\n",
              "      <td>1</td>\n",
              "      <td>Answerable</td>\n",
              "    </tr>\n",
              "    <tr>\n",
              "      <th>20</th>\n",
              "      <td>Mikä oli Napoleonin sotien lopputulos?</td>\n",
              "      <td>Napoleonin sodat</td>\n",
              "      <td>finnish</td>\n",
              "      <td>{'answer_start': [15], 'answer_text': ['Ranska...</td>\n",
              "      <td>Sotien jälkeen Ranska alistettiin kovilla rauh...</td>\n",
              "      <td>https://fi.wikipedia.org/wiki/Napoleonin%20sodat</td>\n",
              "      <td>[Mikä, oli, Napoleonin, sotien, lopputulos]</td>\n",
              "      <td>[Sotien, jälkeen, Ranska, alistettiin, kovilla...</td>\n",
              "      <td>1</td>\n",
              "      <td>Answerable</td>\n",
              "    </tr>\n",
              "  </tbody>\n",
              "</table>\n",
              "</div>\n",
              "      <button class=\"colab-df-convert\" onclick=\"convertToInteractive('df-e39bbffc-03a1-4b7d-920c-47d586d8a0ba')\"\n",
              "              title=\"Convert this dataframe to an interactive table.\"\n",
              "              style=\"display:none;\">\n",
              "        \n",
              "  <svg xmlns=\"http://www.w3.org/2000/svg\" height=\"24px\"viewBox=\"0 0 24 24\"\n",
              "       width=\"24px\">\n",
              "    <path d=\"M0 0h24v24H0V0z\" fill=\"none\"/>\n",
              "    <path d=\"M18.56 5.44l.94 2.06.94-2.06 2.06-.94-2.06-.94-.94-2.06-.94 2.06-2.06.94zm-11 1L8.5 8.5l.94-2.06 2.06-.94-2.06-.94L8.5 2.5l-.94 2.06-2.06.94zm10 10l.94 2.06.94-2.06 2.06-.94-2.06-.94-.94-2.06-.94 2.06-2.06.94z\"/><path d=\"M17.41 7.96l-1.37-1.37c-.4-.4-.92-.59-1.43-.59-.52 0-1.04.2-1.43.59L10.3 9.45l-7.72 7.72c-.78.78-.78 2.05 0 2.83L4 21.41c.39.39.9.59 1.41.59.51 0 1.02-.2 1.41-.59l7.78-7.78 2.81-2.81c.8-.78.8-2.07 0-2.86zM5.41 20L4 18.59l7.72-7.72 1.47 1.35L5.41 20z\"/>\n",
              "  </svg>\n",
              "      </button>\n",
              "      \n",
              "  <style>\n",
              "    .colab-df-container {\n",
              "      display:flex;\n",
              "      flex-wrap:wrap;\n",
              "      gap: 12px;\n",
              "    }\n",
              "\n",
              "    .colab-df-convert {\n",
              "      background-color: #E8F0FE;\n",
              "      border: none;\n",
              "      border-radius: 50%;\n",
              "      cursor: pointer;\n",
              "      display: none;\n",
              "      fill: #1967D2;\n",
              "      height: 32px;\n",
              "      padding: 0 0 0 0;\n",
              "      width: 32px;\n",
              "    }\n",
              "\n",
              "    .colab-df-convert:hover {\n",
              "      background-color: #E2EBFA;\n",
              "      box-shadow: 0px 1px 2px rgba(60, 64, 67, 0.3), 0px 1px 3px 1px rgba(60, 64, 67, 0.15);\n",
              "      fill: #174EA6;\n",
              "    }\n",
              "\n",
              "    [theme=dark] .colab-df-convert {\n",
              "      background-color: #3B4455;\n",
              "      fill: #D2E3FC;\n",
              "    }\n",
              "\n",
              "    [theme=dark] .colab-df-convert:hover {\n",
              "      background-color: #434B5C;\n",
              "      box-shadow: 0px 1px 3px 1px rgba(0, 0, 0, 0.15);\n",
              "      filter: drop-shadow(0px 1px 2px rgba(0, 0, 0, 0.3));\n",
              "      fill: #FFFFFF;\n",
              "    }\n",
              "  </style>\n",
              "\n",
              "      <script>\n",
              "        const buttonEl =\n",
              "          document.querySelector('#df-e39bbffc-03a1-4b7d-920c-47d586d8a0ba button.colab-df-convert');\n",
              "        buttonEl.style.display =\n",
              "          google.colab.kernel.accessAllowed ? 'block' : 'none';\n",
              "\n",
              "        async function convertToInteractive(key) {\n",
              "          const element = document.querySelector('#df-e39bbffc-03a1-4b7d-920c-47d586d8a0ba');\n",
              "          const dataTable =\n",
              "            await google.colab.kernel.invokeFunction('convertToInteractive',\n",
              "                                                     [key], {});\n",
              "          if (!dataTable) return;\n",
              "\n",
              "          const docLinkHtml = 'Like what you see? Visit the ' +\n",
              "            '<a target=\"_blank\" href=https://colab.research.google.com/notebooks/data_table.ipynb>data table notebook</a>'\n",
              "            + ' to learn more about interactive tables.';\n",
              "          element.innerHTML = '';\n",
              "          dataTable['output_type'] = 'display_data';\n",
              "          await google.colab.output.renderOutput(dataTable, element);\n",
              "          const docLink = document.createElement('div');\n",
              "          docLink.innerHTML = docLinkHtml;\n",
              "          element.appendChild(docLink);\n",
              "        }\n",
              "      </script>\n",
              "    </div>\n",
              "  </div>\n",
              "  "
            ]
          },
          "metadata": {},
          "execution_count": 87
        }
      ]
    },
    {
      "cell_type": "markdown",
      "source": [
        "**Remember to preprocess the document_plaintext tokens list (removing brackets, ...)**"
      ],
      "metadata": {
        "id": "4nBPbgJuGCWF"
      }
    },
    {
      "cell_type": "markdown",
      "source": [
        "### 1.1.b Identify most common first and last words"
      ],
      "metadata": {
        "id": "FXrqEBtxT-1L"
      }
    },
    {
      "cell_type": "code",
      "source": [
        "df.loc[:,'first_token'] = df['tokens'].apply(lambda x: x[0])\n",
        "df.loc[:,'last_token'] = df['tokens'].apply(lambda x: x[-1])"
      ],
      "metadata": {
        "id": "2JpZGR8bWRt4"
      },
      "execution_count": null,
      "outputs": []
    },
    {
      "cell_type": "code",
      "source": [
        "print('Most common first word:')\n",
        "print(df.groupby(['language'])['first_token'].agg(pd.Series.mode))\n",
        "\n",
        "print('\\nFive most common first words:')\n",
        "print(df.groupby(['language'])['first_token'].head(5))"
      ],
      "metadata": {
        "id": "BI9IIio3XGC2"
      },
      "execution_count": null,
      "outputs": []
    },
    {
      "cell_type": "code",
      "source": [
        "print('Most common last word:')\n",
        "print(df.groupby(['language'])['last_token'].agg(pd.Series.mode))\n",
        "\n",
        "print('\\nFive most common last words:')\n",
        "print(df.groupby(['language'])['last_token'].head(5))"
      ],
      "metadata": {
        "id": "ZmnsGNioZgh_"
      },
      "execution_count": null,
      "outputs": []
    },
    {
      "cell_type": "markdown",
      "source": [
        "## 1.2 Binary classification"
      ],
      "metadata": {
        "id": "uZAJ0Ax0rOsb"
      }
    },
    {
      "cell_type": "code",
      "source": [
        "import torch\n",
        "import torch.nn as nn\n",
        "import torch.nn.functional as F\n",
        "import torch.optim as optim\n",
        "\n",
        "torch.manual_seed(123)"
      ],
      "metadata": {
        "id": "pwR6-VcPyV0Q",
        "colab": {
          "base_uri": "https://localhost:8080/"
        },
        "outputId": "1f68a778-a51e-4bea-83a9-eeb7a6bb5849"
      },
      "execution_count": null,
      "outputs": [
        {
          "output_type": "execute_result",
          "data": {
            "text/plain": [
              "<torch._C.Generator at 0x7f07e15c6990>"
            ]
          },
          "metadata": {},
          "execution_count": 13
        }
      ]
    },
    {
      "cell_type": "code",
      "source": [
        "!pip3 install transformers"
      ],
      "metadata": {
        "id": "WnJ2wm5hCrY3"
      },
      "execution_count": null,
      "outputs": []
    },
    {
      "cell_type": "code",
      "source": [
        "!pip install fugashi[unidic-lite]"
      ],
      "metadata": {
        "id": "MmD1uAI5hAJP"
      },
      "execution_count": null,
      "outputs": []
    },
    {
      "cell_type": "code",
      "source": [
        "from transformers import AutoTokenizer\n",
        "mbert_tokeniser = AutoTokenizer.from_pretrained(\"bert-base-multilingual-uncased\")"
      ],
      "metadata": {
        "id": "nZiHEwueCjRd"
      },
      "execution_count": null,
      "outputs": []
    },
    {
      "cell_type": "code",
      "source": [
        "label_to_ix = {'Non-answerable':0, 'Answerable':1}"
      ],
      "metadata": {
        "id": "IBumbmWtFxLv"
      },
      "execution_count": null,
      "outputs": []
    },
    {
      "cell_type": "code",
      "source": [
        "df['answerable'] = df.annotations.apply(lambda x: 0 if x['answer_start']==-1 else 1)\n",
        "df_val['answerable'] = df_val.annotations.apply(lambda x: 0 if x['answer_start']==-1 else 1)\n",
        "\n",
        "df['answerable_t'] = df.annotations.apply(lambda x: 'Non-answerable' if x['answer_start']==-1 else 'Answerable')\n",
        "df_val['answerable_t'] = df_val.annotations.apply(lambda x: 'Non-answerable' if x['answer_start']==-1 else 'Answerable')"
      ],
      "metadata": {
        "id": "f4xE3dwdy77Z"
      },
      "execution_count": null,
      "outputs": []
    },
    {
      "cell_type": "markdown",
      "source": [
        "### 1.2.a Design classifier"
      ],
      "metadata": {
        "id": "e711XHliNAvA"
      }
    },
    {
      "cell_type": "code",
      "source": [
        "tokenizer_fi = AutoTokenizer.from_pretrained(\"TurkuNLP/bert-base-finnish-cased-v1\")\n",
        "#tokenizer_ja = AutoTokenizer.from_pretrained(\"cl-tohoku/bert-base-japanese\") # Issue\n",
        "tokenizer_en = AutoTokenizer.from_pretrained(\"Jean-Baptiste/roberta-large-ner-english\")"
      ],
      "metadata": {
        "id": "Rl44olfofVnx"
      },
      "execution_count": null,
      "outputs": []
    },
    {
      "cell_type": "code",
      "source": [
        "class BoWClassifier(nn.Module):\n",
        "\n",
        "    def __init__(self, num_labels, vocab_size, num_hidden = 2):\n",
        "        # Calls the init function of nn.Module. \n",
        "        super(BoWClassifier, self).__init__()\n",
        "\n",
        "        # Define the parameters that you need.\n",
        "        self.linear = nn.Linear(vocab_size, num_hidden)\n",
        "        # non-linearity (here it is also a layer!)\n",
        "        self.nonlinear = nn.ReLU()\n",
        "        # final affine transformation\n",
        "        self.final = nn.Linear(num_hidden, num_labels)\n",
        "\n",
        "    def forward(self, bow_vec):\n",
        "        # Pass the input through the linear layer,\n",
        "        # then pass that through log_softmax.\n",
        "        # Many non-linearities and other functions are in torch.nn.functional\n",
        "        return self.final(self.nonlinear(self.linear(bow_vec)))"
      ],
      "metadata": {
        "id": "5o7VEKwfrhku"
      },
      "execution_count": null,
      "outputs": []
    },
    {
      "cell_type": "code",
      "source": [
        "# Functions to create BoW vectors\n",
        "def make_bow_vector(sentence, word_to_ix):\n",
        "    vec = torch.zeros(len(word_to_ix))\n",
        "    for word in sentence:\n",
        "        vec[word_to_ix[word]] += 1\n",
        "    return vec.view(1, -1)\n",
        "\n",
        "\n",
        "def make_target(label, label_to_ix):\n",
        "    return torch.LongTensor([label_to_ix[label]])"
      ],
      "metadata": {
        "id": "7tRXFFofsPMB"
      },
      "execution_count": null,
      "outputs": []
    },
    {
      "cell_type": "markdown",
      "source": [
        "Test model is running ..."
      ],
      "metadata": {
        "id": "50IJnw2kohOA"
      }
    },
    {
      "cell_type": "code",
      "source": [
        "# Function to map each word in the vocab to an unique integer\n",
        "# Indexing the Bag of words vector\n",
        "word_to_ix = {}\n",
        "for sent in df['question_text_t'] + df['document_plaintext_t']:# + df_val['question_text_t'] + df_val['document_plaintext_t']:\n",
        "    for word in sent:\n",
        "        if word not in word_to_ix:\n",
        "            word_to_ix[word] = len(word_to_ix)\n",
        "print(word_to_ix)"
      ],
      "metadata": {
        "colab": {
          "base_uri": "https://localhost:8080/"
        },
        "id": "GuRKkbTXy9o9",
        "outputId": "d3a0ff9c-b537-4ac3-b031-b788e49ccfaf"
      },
      "execution_count": null,
      "outputs": [
        {
          "output_type": "stream",
          "name": "stderr",
          "text": [
            "IOPub data rate exceeded.\n",
            "The notebook server will temporarily stop sending output\n",
            "to the client in order to avoid crashing it.\n",
            "To change this limit, set the config variable\n",
            "`--NotebookApp.iopub_data_rate_limit`.\n",
            "\n",
            "Current values:\n",
            "NotebookApp.iopub_data_rate_limit=1000000.0 (bytes/sec)\n",
            "NotebookApp.rate_limit_window=3.0 (secs)\n",
            "\n"
          ]
        }
      ]
    },
    {
      "cell_type": "code",
      "source": [
        "VOCAB_SIZE = len(word_to_ix)\n",
        "NUM_LABELS = 2"
      ],
      "metadata": {
        "id": "Ev9pn9YS0iwn"
      },
      "execution_count": null,
      "outputs": []
    },
    {
      "cell_type": "code",
      "source": [
        "model = BoWClassifier(NUM_LABELS, VOCAB_SIZE)\n",
        "\n",
        "# The first output below is A, the second is b.\n",
        "for param in model.parameters():\n",
        "    print(param)"
      ],
      "metadata": {
        "colab": {
          "base_uri": "https://localhost:8080/"
        },
        "id": "zOLot2enytDg",
        "outputId": "849a771b-954c-475c-a04e-1584e85322ef"
      },
      "execution_count": null,
      "outputs": [
        {
          "output_type": "stream",
          "name": "stdout",
          "text": [
            "Parameter containing:\n",
            "tensor([[-7.6024e-04,  6.1756e-05, -9.2594e-04,  ...,  1.6241e-03,\n",
            "         -1.5288e-03,  7.7469e-04],\n",
            "        [ 1.0381e-03, -1.5680e-03, -1.6714e-03,  ...,  1.2232e-03,\n",
            "         -1.7472e-03, -3.9226e-04]], requires_grad=True)\n",
            "Parameter containing:\n",
            "tensor([ 0.0016, -0.0011], requires_grad=True)\n",
            "Parameter containing:\n",
            "tensor([[-0.1705,  0.3914],\n",
            "        [-0.6458, -0.5898]], requires_grad=True)\n",
            "Parameter containing:\n",
            "tensor([-0.0808, -0.0233], requires_grad=True)\n"
          ]
        }
      ]
    },
    {
      "cell_type": "code",
      "source": [
        "test_data = df.loc[df.language == 'finnish',['question_text_t','answerable']].head(10).values.tolist()"
      ],
      "metadata": {
        "id": "qr2hPBI2GsfR"
      },
      "execution_count": null,
      "outputs": []
    },
    {
      "cell_type": "code",
      "source": [
        "with torch.no_grad():\n",
        "    for text, label in test_data:\n",
        "        bow_vec = make_bow_vector(text, word_to_ix)\n",
        "        log_probs = model(bow_vec)\n",
        "        print(log_probs)\n",
        "\n",
        "# Print the matrix column corresponding to \"Charles\"\n",
        "print(next(model.parameters())[:, word_to_ix[\"Charles\"]])"
      ],
      "metadata": {
        "id": "URsySt-JzqUt",
        "colab": {
          "base_uri": "https://localhost:8080/"
        },
        "outputId": "41293735-4928-426b-bab0-7104ca8fe34a"
      },
      "execution_count": null,
      "outputs": [
        {
          "output_type": "stream",
          "name": "stdout",
          "text": [
            "tensor([[-0.0733, -0.4155]])\n",
            "tensor([[-0.0720, -0.4135]])\n",
            "tensor([[-0.0721, -0.4137]])\n",
            "tensor([[-0.0715, -0.4141]])\n",
            "tensor([[-0.0720, -0.4145]])\n",
            "tensor([[-0.0724, -0.4142]])\n",
            "tensor([[-0.0725, -0.4143]])\n",
            "tensor([[-0.0724, -0.4142]])\n",
            "tensor([[-0.0720, -0.4135]])\n",
            "tensor([[-0.0727, -0.4146]])\n",
            "tensor([0.0012, 0.0010], grad_fn=<SelectBackward0>)\n"
          ]
        }
      ]
    },
    {
      "cell_type": "markdown",
      "source": [
        "### 1.2.b Train classifier"
      ],
      "metadata": {
        "id": "xXVop8vrMtFQ"
      }
    },
    {
      "cell_type": "code",
      "source": [
        "# Model for each language\n",
        "word_to_ix_fi = tokenizer_fi.vocab\n",
        "model_fi = BoWClassifier(NUM_LABELS, len(word_to_ix_fi))\n",
        "\n",
        "word_to_ix_en = tokenizer_en.vocab\n",
        "model_en = BoWClassifier(NUM_LABELS, len(word_to_ix_en))\n",
        "\n",
        "#word_to_ix_ja = tokenizer_ja.vocab\n",
        "#model_ja = BoWClassifier(NUM_LABELS, len(word_to_ix_ja))"
      ],
      "metadata": {
        "id": "UDnBRV1HnDPD"
      },
      "execution_count": null,
      "outputs": []
    },
    {
      "cell_type": "code",
      "source": [
        "df_lang = df.loc[df.language == 'finnish',['question_text_t','answerable_t']].values.tolist()"
      ],
      "metadata": {
        "id": "9fVbnVZjpDjO"
      },
      "execution_count": null,
      "outputs": []
    },
    {
      "cell_type": "code",
      "source": [
        "for epoch in range(epochs):\n",
        "    for instance, label in df_lang:\n",
        "        # Step 1. Remember that PyTorch accumulates gradients.\n",
        "        # We need to clear them out before each instance\n",
        "        model.zero_grad()\n",
        "\n",
        "        # Step 2. Make our BOW vector and also we must wrap the target in a\n",
        "        # Tensor as an integer. For example, if the target is SPANISH, then\n",
        "        # we wrap the integer 0. The loss function then knows that the 0th\n",
        "        # element of the log probabilities is the log probability\n",
        "        # corresponding to SPANISH\n",
        "        bow_vec = make_bow_vector(instance, word_to_ix)\n",
        "        target = make_target(label, label_to_ix)\n",
        "\n",
        "        # Step 3. Run our forward pass.\n",
        "        log_probs = model(bow_vec)\n",
        "\n",
        "        # Step 4. Compute the loss, gradients, and update the parameters by\n",
        "        # calling optimizer.step()\n",
        "        loss = loss_function(log_probs, target)\n",
        "        loss.backward()\n",
        "        optimizer.step()"
      ],
      "metadata": {
        "id": "HEXUgwKpFrlK"
      },
      "execution_count": null,
      "outputs": []
    },
    {
      "cell_type": "code",
      "source": [
        "def train_loop(df, model, loss_fn, optimizer, word_to_ix, label_to_ix):\n",
        "  for X, y in df:\n",
        "    # Step 1: Clear gradients before instance\n",
        "    model.zero_grad()\n",
        "\n",
        "    # Step 2: Make BOW vector and wrap in a Tensor as an integer\n",
        "    bow_vec = make_bow_vector(X, word_to_ix)\n",
        "    target = make_target(y, label_to_ix)\n",
        "\n",
        "    # Step 3: Run forward pass\n",
        "    pred = model(bow_vec)\n",
        "\n",
        "    # Step 4: Compute loss, gradients, and update the parameters\n",
        "    loss = loss_fn(pred, target)\n",
        "    loss.backward()\n",
        "    optimizer.step()"
      ],
      "metadata": {
        "id": "72GPS829LEzH"
      },
      "execution_count": null,
      "outputs": []
    },
    {
      "cell_type": "code",
      "source": [
        "def test_loop(df, model, loss_fn, word_to_ix, label_to_ix):\n",
        "  size = len(df)\n",
        "  #num_batches = len(???)\n",
        "  test_loss, correct = 0, 0\n",
        "\n",
        "  with torch.no_grad():\n",
        "    for X, y in df:\n",
        "      bow_vec = make_bow_vector(X, word_to_ix)\n",
        "      target = make_target(y, label_to_ix)\n",
        "\n",
        "      pred = model(bow_vec)\n",
        "      test_loss += loss_fn(pred, target).item()\n",
        "      correct += (pred.argmax(1) == target).type(torch.float).sum().item()\n",
        "  \n",
        "  #test_loss /= num_batches\n",
        "  correct /= size\n",
        "  print(f\"Test Error: \\n Accuracy: {(100*correct):>0.1f}%\")"
      ],
      "metadata": {
        "id": "lWttlfWSQNVD"
      },
      "execution_count": null,
      "outputs": []
    },
    {
      "cell_type": "code",
      "source": [
        "VOCAB_SIZE = len(word_to_ix)\n",
        "NUM_LABELS = 2\n",
        "\n",
        "model = BoWClassifier(NUM_LABELS, VOCAB_SIZE)"
      ],
      "metadata": {
        "id": "GT4LH-5YvDy5"
      },
      "execution_count": null,
      "outputs": []
    },
    {
      "cell_type": "code",
      "source": [
        "epochs = 5\n",
        "loss_function = nn.CrossEntropyLoss()\n",
        "optimizer = optim.SGD(model.parameters(), lr=0.1)"
      ],
      "metadata": {
        "id": "6Qhj_FfDDN2N"
      },
      "execution_count": null,
      "outputs": []
    },
    {
      "cell_type": "code",
      "source": [
        "for t in range(epochs):\n",
        "  print(f\"Epoch {t+1}\\n--------------\")\n",
        "  train_loop(df_lang, model, loss_function, optimizer, word_to_ix, label_to_ix)\n",
        "  #test_loop(df_lang, model, loss_function, word_to_ix, label_to_ix)\n",
        "print('Done!')"
      ],
      "metadata": {
        "colab": {
          "base_uri": "https://localhost:8080/"
        },
        "id": "dkaX5HiLJ33m",
        "outputId": "26702071-f595-4452-c292-8ab780735756"
      },
      "execution_count": null,
      "outputs": [
        {
          "output_type": "stream",
          "name": "stdout",
          "text": [
            "Epoch 1\n",
            "--------------\n",
            "Epoch 2\n",
            "--------------\n",
            "Epoch 3\n",
            "--------------\n",
            "Epoch 4\n",
            "--------------\n",
            "Epoch 5\n",
            "--------------\n",
            "Done!\n"
          ]
        }
      ]
    },
    {
      "cell_type": "markdown",
      "source": [
        "Model is not improving..."
      ],
      "metadata": {
        "id": "xgo09jZueCIP"
      }
    },
    {
      "cell_type": "markdown",
      "source": [
        "### 1.2.c Evaluate classifier"
      ],
      "metadata": {
        "id": "50RhGGlLMgYf"
      }
    },
    {
      "cell_type": "code",
      "source": [
        "test_loop(df_lang, model, loss_function, word_to_ix, label_to_ix)"
      ],
      "metadata": {
        "id": "uEq9Mg-Vq1-9",
        "colab": {
          "base_uri": "https://localhost:8080/"
        },
        "outputId": "e9af3ee0-f1eb-4ffb-b4fa-4d67d568488e"
      },
      "execution_count": null,
      "outputs": [
        {
          "output_type": "stream",
          "name": "stdout",
          "text": [
            "Test Error: \n",
            " Accuracy: 50.0%\n"
          ]
        }
      ]
    },
    {
      "cell_type": "code",
      "source": [
        "with torch.no_grad():\n",
        "    for instance, label in test_data:\n",
        "        bow_vec = make_bow_vector(instance, word_to_ix)\n",
        "        log_probs = model(bow_vec)\n",
        "        print(log_probs)"
      ],
      "metadata": {
        "colab": {
          "base_uri": "https://localhost:8080/"
        },
        "id": "8eLs-RrZGRQ7",
        "outputId": "75cd409d-767a-413a-d3b0-bd987c7fc97b"
      },
      "execution_count": null,
      "outputs": [
        {
          "output_type": "stream",
          "name": "stdout",
          "text": [
            "tensor([[ 3.5541, -3.6579]])\n",
            "tensor([[ 3.5541, -3.6579]])\n",
            "tensor([[ 3.5541, -3.6579]])\n",
            "tensor([[ 3.5541, -3.6579]])\n",
            "tensor([[ 3.5541, -3.6579]])\n",
            "tensor([[ 3.5541, -3.6579]])\n",
            "tensor([[ 3.5541, -3.6579]])\n",
            "tensor([[ 3.5541, -3.6579]])\n",
            "tensor([[ 3.5541, -3.6579]])\n",
            "tensor([[ 3.5541, -3.6579]])\n"
          ]
        }
      ]
    },
    {
      "cell_type": "markdown",
      "source": [
        "Calculate accuracy"
      ],
      "metadata": {
        "id": "6okEG-oGplJs"
      }
    },
    {
      "cell_type": "code",
      "source": [],
      "metadata": {
        "id": "i97zpgEdqUgM"
      },
      "execution_count": null,
      "outputs": []
    },
    {
      "cell_type": "markdown",
      "source": [
        "# Assignment 2 \n",
        "Representation Learning"
      ],
      "metadata": {
        "id": "jGsqmDyQtotJ"
      }
    },
    {
      "cell_type": "code",
      "source": [
        "from tqdm import tqdm\n",
        "import nltk\n",
        "from nltk.corpus import stopwords"
      ],
      "metadata": {
        "id": "c6UHVVtItsiL"
      },
      "execution_count": null,
      "outputs": []
    },
    {
      "cell_type": "code",
      "source": [
        "def get_bpemb_features(dataset, bpemb):\n",
        "  # With bpemb we can tokenize and embed an entire document using .embed(x)\n",
        "  X = [bpemb.embed(x).mean(0) for x in tqdm(dataset[:,0])]\n",
        "  y = list(dataset[:,1])\n",
        "  return X,y"
      ],
      "metadata": {
        "id": "hrWnblWyxmRO"
      },
      "execution_count": null,
      "outputs": []
    },
    {
      "cell_type": "code",
      "source": [
        "def get_glove_features(dataset, glove, nlp):\n",
        "  X = []\n",
        "  for x in tqdm(dataset[:,0]):\n",
        "    # For glove embeddings, we first tokenize the sentence using spacy, lower-case and remove stopwords, and get the available word vectors\n",
        "    vecs = np.vstack([glove[t.text.lower()] if t.text.lower() in glove else np.zeros(100) for t in nlp(x) if t.text.lower() not in stopwords])\n",
        "    X.append(vecs.mean(0))\n",
        "  y = list(dataset[:,1])\n",
        "  return np.stack(X),y"
      ],
      "metadata": {
        "id": "N9SM_XQ1x8e3"
      },
      "execution_count": null,
      "outputs": []
    }
  ]
}